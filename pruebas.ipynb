{
 "cells": [
  {
   "cell_type": "code",
   "execution_count": 1,
   "metadata": {},
   "outputs": [],
   "source": [
    "# Librerias necesarias\n",
    "import os\n",
    "import pydgraph\n",
    "\n",
    "# Importando model\n",
    "from model import *\n",
    "# Importando populate\n",
    "from populate import *\n",
    "\n",
    "# -------------------------- Haciendo la conexion con la base de datos -------------------------- #\n",
    "\n",
    "# URI de Dgraph\n",
    "dgraph_uri = os.getenv(\"DGRAPH_URI\", \"localhost:9080\")\n",
    "\n",
    "# ---------------------------------------- Función Menu ---------------------------------------- #\n",
    "\n",
    "def print_menu():\n",
    "    options = {\n",
    "        1: \"Crear Data\",\n",
    "        2: \"Obtener Aeropuertos\",\n",
    "        3: \"Obtener Conexciones de un Aeropuerto\",\n",
    "        4: \"Obtener Conexion más lejana\",\n",
    "        5: \"Obtener Conexion más cercana\",\n",
    "        6: \"Cantidad de Conexiones que salen de un Aeropuerto\",\n",
    "        7: \"Cantidad de Conexiones que llegan a un Aeropuerto\"\n",
    "    }\n",
    "    \n",
    "# ---------------------------------------- Función Main ---------------------------------------- #"
   ]
  },
  {
   "cell_type": "code",
   "execution_count": 2,
   "metadata": {},
   "outputs": [],
   "source": [
    "# Creando el cliente\n",
    "client_stub = pydgraph.DgraphClientStub(dgraph_uri)\n",
    "client = pydgraph.DgraphClient(client_stub)\n",
    "# Creación de la instancia de ModeloAeropuertos\n",
    "modelo = ModeloAeropuertos(client)\n",
    "\n",
    "modelo.drop_all(confirmacion='SI')\n",
    "\n",
    "# Establecer el esquema en la base de datos\n",
    "modelo.set_schema()"
   ]
  },
  {
   "cell_type": "code",
   "execution_count": 3,
   "metadata": {},
   "outputs": [
    {
     "data": {
      "text/plain": [
       "[{'airport_id': 'AAA',\n",
       "  'airport_name': 'Aeropuerto A',\n",
       "  'city': 'Ciudad A',\n",
       "  'country': 'País A'},\n",
       " {'airport_id': 'BBB',\n",
       "  'airport_name': 'Aeropuerto B',\n",
       "  'city': 'Ciudad B',\n",
       "  'country': 'País B'},\n",
       " {'airport_id': 'CCC',\n",
       "  'airport_name': 'Aeropuerto C',\n",
       "  'city': 'Ciudad C',\n",
       "  'country': 'País C'}]"
      ]
     },
     "execution_count": 3,
     "metadata": {},
     "output_type": "execute_result"
    }
   ],
   "source": [
    "# Agregar algunos aeropuertos\n",
    "modelo.add_airport(\"AAA\", \"Aeropuerto A\", \"Ciudad A\", \"País A\")\n",
    "modelo.add_airport(\"BBB\", \"Aeropuerto B\", \"Ciudad B\", \"País B\")\n",
    "modelo.add_airport(\"CCC\", \"Aeropuerto C\", \"Ciudad C\", \"País C\")\n",
    "\n",
    "a = modelo.get_all_airports()\n",
    "a"
   ]
  },
  {
   "cell_type": "code",
   "execution_count": null,
   "metadata": {},
   "outputs": [],
   "source": [
    "len(a)"
   ]
  },
  {
   "cell_type": "code",
   "execution_count": null,
   "metadata": {},
   "outputs": [],
   "source": [
    "# Agregar algunas conexiones entre aeropuertos\n",
    "modelo.add_connection(\"AAA\", \"BBB\", 500.0)\n",
    "modelo.add_connection(\"BBB\", \"CCC\", 250.0)\n",
    "modelo.add_connection(\"AAA\", \"CCC\", 700.0)"
   ]
  },
  {
   "cell_type": "code",
   "execution_count": null,
   "metadata": {},
   "outputs": [],
   "source": [
    "modelo.get_airport_connections(\"AAA\")"
   ]
  },
  {
   "cell_type": "code",
   "execution_count": 5,
   "metadata": {},
   "outputs": [],
   "source": [
    "# Creando el cliente\n",
    "client_stub = pydgraph.DgraphClientStub(dgraph_uri)\n",
    "client = pydgraph.DgraphClient(client_stub)\n",
    "# Creación de la instancia de ModeloAeropuertos\n",
    "modelo = ModeloAeropuertos(client)\n",
    "\n",
    "modelo.drop_all(confirmacion='SI')\n",
    "\n",
    "# Establecer el esquema en la base de datos\n",
    "modelo.set_schema()"
   ]
  },
  {
   "cell_type": "code",
   "execution_count": 6,
   "metadata": {},
   "outputs": [],
   "source": [
    "modelo.add_multiple_airports(aeropuertos)"
   ]
  },
  {
   "cell_type": "code",
   "execution_count": 7,
   "metadata": {},
   "outputs": [],
   "source": [
    "modelo.add_multiple_connections(conexiones)"
   ]
  },
  {
   "cell_type": "code",
   "execution_count": 9,
   "metadata": {},
   "outputs": [
    {
     "data": {
      "text/plain": [
       "{'airport_id': 'ATL',\n",
       " 'airport_name': 'Hartsfield–Jackson Atlanta International Airport',\n",
       " 'city': 'Atlanta',\n",
       " 'country': 'USA'}"
      ]
     },
     "execution_count": 9,
     "metadata": {},
     "output_type": "execute_result"
    }
   ],
   "source": [
    "modelo.get_all_airports()[0]"
   ]
  },
  {
   "cell_type": "code",
   "execution_count": 12,
   "metadata": {},
   "outputs": [
    {
     "data": {
      "text/plain": [
       "{'airport_id': 'DXB',\n",
       " 'airport_name': 'Dubai International Airport',\n",
       " 'connection|distance': 12259}"
      ]
     },
     "execution_count": 12,
     "metadata": {},
     "output_type": "execute_result"
    }
   ],
   "source": [
    "modelo.get_airport_connections(\"ATL\")[0]"
   ]
  },
  {
   "cell_type": "code",
   "execution_count": null,
   "metadata": {},
   "outputs": [],
   "source": [
    "modelo.get_furthest_conection('MIA')"
   ]
  },
  {
   "cell_type": "code",
   "execution_count": null,
   "metadata": {},
   "outputs": [],
   "source": [
    "modelo.get_closest_conection('MIA')"
   ]
  },
  {
   "cell_type": "code",
   "execution_count": null,
   "metadata": {},
   "outputs": [],
   "source": [
    "modelo.get_count_conection('MIA')"
   ]
  },
  {
   "cell_type": "code",
   "execution_count": null,
   "metadata": {},
   "outputs": [],
   "source": [
    "modelo.get_count_conection_to('MIA')"
   ]
  },
  {
   "cell_type": "code",
   "execution_count": null,
   "metadata": {},
   "outputs": [],
   "source": []
  }
 ],
 "metadata": {
  "kernelspec": {
   "display_name": "Venv_BDNoSQL",
   "language": "python",
   "name": "python3"
  },
  "language_info": {
   "codemirror_mode": {
    "name": "ipython",
    "version": 3
   },
   "file_extension": ".py",
   "mimetype": "text/x-python",
   "name": "python",
   "nbconvert_exporter": "python",
   "pygments_lexer": "ipython3",
   "version": "3.10.13"
  }
 },
 "nbformat": 4,
 "nbformat_minor": 2
}
